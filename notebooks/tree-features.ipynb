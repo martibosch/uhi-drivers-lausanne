{
 "cells": [
  {
   "cell_type": "markdown",
   "id": "0ffd9fc8",
   "metadata": {},
   "source": [
    "# Features: tree features\n",
    "\n",
    "In this notebook, we transform the tree canopy data array, which consists of the tree canopy map around each station, into a feature data-frame. The feature data-frame will contain the tree canopy coverage within different buffer distances around each station."
   ]
  },
  {
   "cell_type": "code",
   "execution_count": null,
   "id": "ad6ef03b",
   "metadata": {},
   "outputs": [],
   "source": [
    "import geopandas as gpd\n",
    "import numpy as np\n",
    "import pandas as pd\n",
    "import xarray as xr"
   ]
  },
  {
   "cell_type": "code",
   "execution_count": null,
   "id": "59356274",
   "metadata": {
    "tags": [
     "parameters"
    ]
   },
   "outputs": [],
   "source": [
    "stations_gdf_filepath = \"../data/interim/stations-gdf.gpkg\"\n",
    "tree_canopy_filepath = \"../data/interim/tree-canopy.nc\"\n",
    "buffer_dists = [10, 30, 60, 90]\n",
    "\n",
    "dst_canopy_res = 1\n",
    "tree_threshold = 1\n",
    "dst_filepath = \"../data/interim/tree-features.csv\""
   ]
  },
  {
   "cell_type": "code",
   "execution_count": null,
   "id": "c447de43",
   "metadata": {},
   "outputs": [],
   "source": [
    "stations_gdf = gpd.read_file(stations_gdf_filepath)\n",
    "tree_canopy_da = xr.open_dataarray(tree_canopy_filepath)"
   ]
  },
  {
   "cell_type": "markdown",
   "id": "460b4fb4",
   "metadata": {
    "lines_to_next_cell": 2
   },
   "source": [
    "In order to obtain the tree canopy coverage within different buffer distances around each station, we will use circular kernels to mask the tree canopy data array. The kernel will have a radius equal to the buffer distance. We will then sum the values within the masked area and divide by the number of pixels in the kernel to obtain the tree canopy coverage."
   ]
  },
  {
   "cell_type": "code",
   "execution_count": null,
   "id": "b1f01a2a",
   "metadata": {},
   "outputs": [],
   "source": [
    "def get_kernel(kernel_pixel_radius, dtype=\"uint8\"):\n",
    "    \"\"\"Get a circular kernel.\"\"\"\n",
    "    # kernel_pixel_radius = int(kernel_radius // self.res)\n",
    "    kernel_pixel_len = 2 * kernel_pixel_radius  #  + 1\n",
    "\n",
    "    y, x = np.ogrid[\n",
    "        -kernel_pixel_radius : kernel_pixel_len - kernel_pixel_radius,\n",
    "        -kernel_pixel_radius : kernel_pixel_len - kernel_pixel_radius,\n",
    "    ]\n",
    "    mask = x * x + y * y <= kernel_pixel_radius * kernel_pixel_radius\n",
    "\n",
    "    kernel = np.zeros((kernel_pixel_len, kernel_pixel_len), dtype=dtype)\n",
    "    kernel[mask] = 1\n",
    "    return kernel\n",
    "\n",
    "\n",
    "largest_buffer_pixels = int(buffer_dists[-1] / dst_canopy_res)\n",
    "canopy_df = pd.DataFrame(index=stations_gdf.index)\n",
    "for buffer_dist in buffer_dists:\n",
    "    kernel = get_kernel(int(buffer_dist / dst_canopy_res))\n",
    "    # since the station is located at the center of the array, we use the slice below to\n",
    "    # select the square area around the station with the size of the buffer distance so\n",
    "    # that we can then apply the kernel to it\n",
    "    _slice = slice(\n",
    "        largest_buffer_pixels - buffer_dist, largest_buffer_pixels + buffer_dist\n",
    "    )\n",
    "    canopy_df[buffer_dist] = (\n",
    "        tree_canopy_da[:, _slice, _slice].where(kernel, other=0) > tree_threshold\n",
    "    ).sum(dim=(\"i\", \"j\")) / kernel.sum()"
   ]
  },
  {
   "cell_type": "code",
   "execution_count": null,
   "id": "18c8d9ee",
   "metadata": {},
   "outputs": [],
   "source": [
    "# dump to file\n",
    "canopy_df.to_csv(dst_filepath)"
   ]
  }
 ],
 "metadata": {
  "jupytext": {
   "cell_metadata_filter": "tags,-all"
  },
  "kernelspec": {
   "display_name": "Python (uhi-drivers-lausanne)",
   "language": "python",
   "name": "uhi-drivers-lausanne"
  },
  "language_info": {
   "codemirror_mode": {
    "name": "ipython",
    "version": 3
   },
   "file_extension": ".py",
   "mimetype": "text/x-python",
   "name": "python",
   "nbconvert_exporter": "python",
   "pygments_lexer": "ipython3",
   "version": "3.11.7"
  }
 },
 "nbformat": 4,
 "nbformat_minor": 5
}
