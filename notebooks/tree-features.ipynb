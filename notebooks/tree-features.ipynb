{
 "cells": [
  {
   "cell_type": "markdown",
   "id": "a3b91802",
   "metadata": {},
   "source": [
    "# Features: tree features\n",
    "\n",
    "In this notebook, we transform the tree canopy data array, which consists of the tree canopy map around each station, into a feature data-frame. The feature data-frame will contain the tree canopy coverage within different buffer distances around each station."
   ]
  },
  {
   "cell_type": "code",
   "execution_count": null,
   "id": "fab3d245",
   "metadata": {},
   "outputs": [],
   "source": [
    "import geopandas as gpd\n",
    "import numpy as np\n",
    "import pandas as pd\n",
    "import xarray as xr"
   ]
  },
  {
   "cell_type": "code",
   "execution_count": null,
   "id": "f00647a4",
   "metadata": {
    "tags": [
     "parameters"
    ]
   },
   "outputs": [],
   "source": [
    "stations_gdf_filepath = \"../data/processed/stations.gpkg\"\n",
    "tree_canopy_filepath = \"../data/interim/tree-canopy.nc\"\n",
    "buffer_dists = [10, 30, 60, 90]\n",
    "\n",
    "dst_canopy_res = 1\n",
    "tree_threshold = 1\n",
    "dst_filepath = \"../data/processed/tree-features.csv\""
   ]
  },
  {
   "cell_type": "code",
   "execution_count": null,
   "id": "e5293ddc",
   "metadata": {},
   "outputs": [
    {
     "name": "stderr",
     "output_type": "stream",
     "text": [
      "ERROR 1: PROJ: proj_create_from_database: Open of /home/martibosch/mambaforge/envs/uhi-drivers-lausanne/share/proj failed\n"
     ]
    }
   ],
   "source": [
    "stations_gdf = gpd.read_file(stations_gdf_filepath)\n",
    "station_index_name = stations_gdf.columns.drop(\"geometry\")[0]\n",
    "stations_gdf = stations_gdf.set_index(station_index_name)\n",
    "tree_canopy_da = xr.open_dataarray(tree_canopy_filepath)"
   ]
  },
  {
   "cell_type": "markdown",
   "id": "6427375a",
   "metadata": {
    "lines_to_next_cell": 2
   },
   "source": [
    "In order to obtain the tree canopy coverage within different buffer distances around each station, we will use circular kernels to mask the tree canopy data array. The kernel will have a radius equal to the buffer distance. We will then sum the values within the masked area and divide by the number of pixels in the kernel to obtain the tree canopy coverage."
   ]
  },
  {
   "cell_type": "code",
   "execution_count": null,
   "id": "13abdf5f",
   "metadata": {},
   "outputs": [
    {
     "data": {
      "text/html": [
       "<div>\n",
       "<style scoped>\n",
       "    .dataframe tbody tr th:only-of-type {\n",
       "        vertical-align: middle;\n",
       "    }\n",
       "\n",
       "    .dataframe tbody tr th {\n",
       "        vertical-align: top;\n",
       "    }\n",
       "\n",
       "    .dataframe thead th {\n",
       "        text-align: right;\n",
       "    }\n",
       "</style>\n",
       "<table border=\"1\" class=\"dataframe\">\n",
       "  <thead>\n",
       "    <tr style=\"text-align: right;\">\n",
       "      <th></th>\n",
       "      <th>tree_10</th>\n",
       "      <th>tree_30</th>\n",
       "      <th>tree_60</th>\n",
       "      <th>tree_90</th>\n",
       "    </tr>\n",
       "    <tr>\n",
       "      <th>station_id</th>\n",
       "      <th></th>\n",
       "      <th></th>\n",
       "      <th></th>\n",
       "      <th></th>\n",
       "    </tr>\n",
       "  </thead>\n",
       "  <tbody>\n",
       "    <tr>\n",
       "      <th>NABLAU</th>\n",
       "      <td>0.000000</td>\n",
       "      <td>0.072011</td>\n",
       "      <td>0.167272</td>\n",
       "      <td>0.180403</td>\n",
       "    </tr>\n",
       "    <tr>\n",
       "      <th>PUY</th>\n",
       "      <td>0.000000</td>\n",
       "      <td>0.000000</td>\n",
       "      <td>0.000000</td>\n",
       "      <td>0.000000</td>\n",
       "    </tr>\n",
       "    <tr>\n",
       "      <th>WSLLAF</th>\n",
       "      <td>0.879365</td>\n",
       "      <td>0.565094</td>\n",
       "      <td>0.322052</td>\n",
       "      <td>0.247652</td>\n",
       "    </tr>\n",
       "    <tr>\n",
       "      <th>VD_Lausanne_PdL</th>\n",
       "      <td>0.000000</td>\n",
       "      <td>0.000000</td>\n",
       "      <td>0.052893</td>\n",
       "      <td>0.093307</td>\n",
       "    </tr>\n",
       "    <tr>\n",
       "      <th>VD_Bussigny</th>\n",
       "      <td>0.200000</td>\n",
       "      <td>0.169564</td>\n",
       "      <td>0.139984</td>\n",
       "      <td>0.143890</td>\n",
       "    </tr>\n",
       "    <tr>\n",
       "      <th>...</th>\n",
       "      <td>...</td>\n",
       "      <td>...</td>\n",
       "      <td>...</td>\n",
       "      <td>...</td>\n",
       "    </tr>\n",
       "    <tr>\n",
       "      <th>70:ee:50:9c:fb:46</th>\n",
       "      <td>0.111111</td>\n",
       "      <td>0.054629</td>\n",
       "      <td>0.073359</td>\n",
       "      <td>0.087883</td>\n",
       "    </tr>\n",
       "    <tr>\n",
       "      <th>70:ee:50:a4:19:de</th>\n",
       "      <td>0.000000</td>\n",
       "      <td>0.000000</td>\n",
       "      <td>0.000000</td>\n",
       "      <td>0.013992</td>\n",
       "    </tr>\n",
       "    <tr>\n",
       "      <th>70:ee:50:a4:1d:a0</th>\n",
       "      <td>0.326984</td>\n",
       "      <td>0.222774</td>\n",
       "      <td>0.337291</td>\n",
       "      <td>0.330621</td>\n",
       "    </tr>\n",
       "    <tr>\n",
       "      <th>70:ee:50:a4:34:5c</th>\n",
       "      <td>0.047619</td>\n",
       "      <td>0.146506</td>\n",
       "      <td>0.114202</td>\n",
       "      <td>0.195889</td>\n",
       "    </tr>\n",
       "    <tr>\n",
       "      <th>70:ee:50:a4:4e:50</th>\n",
       "      <td>0.000000</td>\n",
       "      <td>0.089393</td>\n",
       "      <td>0.159830</td>\n",
       "      <td>0.206815</td>\n",
       "    </tr>\n",
       "  </tbody>\n",
       "</table>\n",
       "<p>207 rows × 4 columns</p>\n",
       "</div>"
      ],
      "text/plain": [
       "                    tree_10   tree_30   tree_60   tree_90\n",
       "station_id                                               \n",
       "NABLAU             0.000000  0.072011  0.167272  0.180403\n",
       "PUY                0.000000  0.000000  0.000000  0.000000\n",
       "WSLLAF             0.879365  0.565094  0.322052  0.247652\n",
       "VD_Lausanne_PdL    0.000000  0.000000  0.052893  0.093307\n",
       "VD_Bussigny        0.200000  0.169564  0.139984  0.143890\n",
       "...                     ...       ...       ...       ...\n",
       "70:ee:50:9c:fb:46  0.111111  0.054629  0.073359  0.087883\n",
       "70:ee:50:a4:19:de  0.000000  0.000000  0.000000  0.013992\n",
       "70:ee:50:a4:1d:a0  0.326984  0.222774  0.337291  0.330621\n",
       "70:ee:50:a4:34:5c  0.047619  0.146506  0.114202  0.195889\n",
       "70:ee:50:a4:4e:50  0.000000  0.089393  0.159830  0.206815\n",
       "\n",
       "[207 rows x 4 columns]"
      ]
     },
     "execution_count": null,
     "metadata": {},
     "output_type": "execute_result"
    }
   ],
   "source": [
    "def get_kernel(kernel_pixel_radius, dtype=\"uint8\"):\n",
    "    \"\"\"Get a circular kernel.\"\"\"\n",
    "    # kernel_pixel_radius = int(kernel_radius // self.res)\n",
    "    kernel_pixel_len = 2 * kernel_pixel_radius  #  + 1\n",
    "\n",
    "    y, x = np.ogrid[\n",
    "        -kernel_pixel_radius : kernel_pixel_len - kernel_pixel_radius,\n",
    "        -kernel_pixel_radius : kernel_pixel_len - kernel_pixel_radius,\n",
    "    ]\n",
    "    mask = x * x + y * y <= kernel_pixel_radius * kernel_pixel_radius\n",
    "\n",
    "    kernel = np.zeros((kernel_pixel_len, kernel_pixel_len), dtype=dtype)\n",
    "    kernel[mask] = 1\n",
    "    return kernel\n",
    "\n",
    "\n",
    "largest_buffer_pixels = int(buffer_dists[-1] / dst_canopy_res)\n",
    "canopy_df = pd.DataFrame(index=stations_gdf.index)\n",
    "for buffer_dist in buffer_dists:\n",
    "    kernel = get_kernel(int(buffer_dist / dst_canopy_res))\n",
    "    # since the station is located at the center of the array, we use the slice below to\n",
    "    # select the square area around the station with the size of the buffer distance so\n",
    "    # that we can then apply the kernel to it\n",
    "    _slice = slice(\n",
    "        largest_buffer_pixels - buffer_dist, largest_buffer_pixels + buffer_dist\n",
    "    )\n",
    "    canopy_df[f\"tree_{buffer_dist}\"] = (\n",
    "        tree_canopy_da[:, _slice, _slice].where(kernel, other=0) > tree_threshold\n",
    "    ).sum(dim=(\"i\", \"j\")) / kernel.sum()\n",
    "canopy_df"
   ]
  },
  {
   "cell_type": "code",
   "execution_count": null,
   "id": "11259555",
   "metadata": {},
   "outputs": [],
   "source": [
    "# dump to file\n",
    "canopy_df.to_csv(dst_filepath)"
   ]
  }
 ],
 "metadata": {
  "jupytext": {
   "cell_metadata_filter": "tags,-all"
  },
  "kernelspec": {
   "display_name": "Python (uhi-drivers-lausanne)",
   "language": "python",
   "name": "uhi-drivers-lausanne"
  },
  "language_info": {
   "codemirror_mode": {
    "name": "ipython",
    "version": 3
   },
   "file_extension": ".py",
   "mimetype": "text/x-python",
   "name": "python",
   "nbconvert_exporter": "python",
   "pygments_lexer": "ipython3",
   "version": "3.11.7"
  }
 },
 "nbformat": 4,
 "nbformat_minor": 5
}
