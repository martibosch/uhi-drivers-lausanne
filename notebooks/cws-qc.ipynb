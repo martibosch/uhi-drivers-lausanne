{
 "cells": [
  {
   "cell_type": "markdown",
   "id": "a111ed59",
   "metadata": {},
   "source": [
    "# Citizen weather stations quality checks\n",
    "\n",
    "In this notebook, we follow the methods of Napoly et al., (2018) [1] to perform quality checks on the Netatmo stations to control for common errors in citizen weather stations (CWS) data."
   ]
  },
  {
   "cell_type": "code",
   "execution_count": null,
   "id": "348c46df",
   "metadata": {},
   "outputs": [],
   "source": [
    "import geopandas as gpd\n",
    "import matplotlib.pyplot as plt\n",
    "import pandas as pd\n",
    "\n",
    "from uhi_drivers_lausanne import cws_qc\n",
    "\n",
    "figwidth, figheight = plt.rcParams[\"figure.figsize\"]"
   ]
  },
  {
   "cell_type": "code",
   "execution_count": null,
   "id": "e2c29756",
   "metadata": {
    "tags": [
     "parameters"
    ]
   },
   "outputs": [],
   "source": [
    "cws_ts_df_filepath = \"../data/raw/cws-ts-df.csv\"\n",
    "official_ts_df_filepath = \"../data/processed/official-ts-df.csv\"\n",
    "\n",
    "# to get the station elevation data\n",
    "elev_adjust = True\n",
    "cws_stations_gdf_filepath = \"../data/raw/cws-stations.gpkg\"\n",
    "\n",
    "dst_ts_df_filepath = \"../data/processed/cws-qc-ts-df.csv\"\n",
    "dst_stations_gdf_filepath = \"../data/processed/cws-qc-stations.gpkg\"\n",
    "\n",
    "unreliable_threshold = 0.8\n",
    "high_alpha = 0.95"
   ]
  },
  {
   "cell_type": "markdown",
   "id": "daed249f",
   "metadata": {},
   "source": [
    "We start by reading the time series data for both the official stations and CWS:"
   ]
  },
  {
   "cell_type": "code",
   "execution_count": null,
   "id": "0238038f",
   "metadata": {
    "lines_to_next_cell": 2
   },
   "outputs": [
    {
     "name": "stderr",
     "output_type": "stream",
     "text": [
      "ERROR 1: PROJ: proj_create_from_database: Open of /home/martibosch/mambaforge/envs/uhi-drivers-lausanne/share/proj failed\n"
     ]
    },
    {
     "ename": "DriverError",
     "evalue": "../data/raw/cws-stations.gpkg: No such file or directory",
     "output_type": "error",
     "traceback": [
      "\u001b[0;31m---------------------------------------------------------------------------\u001b[0m",
      "\u001b[0;31mCPLE_OpenFailedError\u001b[0m                      Traceback (most recent call last)",
      "File \u001b[0;32mfiona/ogrext.pyx:136\u001b[0m, in \u001b[0;36mfiona.ogrext.gdal_open_vector\u001b[0;34m()\u001b[0m\n",
      "File \u001b[0;32mfiona/_err.pyx:291\u001b[0m, in \u001b[0;36mfiona._err.exc_wrap_pointer\u001b[0;34m()\u001b[0m\n",
      "\u001b[0;31mCPLE_OpenFailedError\u001b[0m: ../data/raw/cws-stations.gpkg: No such file or directory",
      "\nDuring handling of the above exception, another exception occurred:\n",
      "\u001b[0;31mDriverError\u001b[0m                               Traceback (most recent call last)",
      "Cell \u001b[0;32mIn[3], line 8\u001b[0m\n\u001b[1;32m      2\u001b[0m official_ts_df \u001b[38;5;241m=\u001b[39m pd\u001b[38;5;241m.\u001b[39mread_csv(\n\u001b[1;32m      3\u001b[0m     official_ts_df_filepath, index_col\u001b[38;5;241m=\u001b[39m\u001b[38;5;124m\"\u001b[39m\u001b[38;5;124mtime\u001b[39m\u001b[38;5;124m\"\u001b[39m, parse_dates\u001b[38;5;241m=\u001b[39m\u001b[38;5;28;01mTrue\u001b[39;00m\n\u001b[1;32m      4\u001b[0m )\n\u001b[1;32m      6\u001b[0m \u001b[38;5;66;03m# 2. read CWS data\u001b[39;00m\n\u001b[1;32m      7\u001b[0m \u001b[38;5;66;03m# 2.1 stations locations\u001b[39;00m\n\u001b[0;32m----> 8\u001b[0m cws_stations_gdf \u001b[38;5;241m=\u001b[39m \u001b[43mgpd\u001b[49m\u001b[38;5;241;43m.\u001b[39;49m\u001b[43mread_file\u001b[49m\u001b[43m(\u001b[49m\u001b[43mcws_stations_gdf_filepath\u001b[49m\u001b[43m)\u001b[49m\n\u001b[1;32m     10\u001b[0m \u001b[38;5;66;03m# 2.2 time series data\u001b[39;00m\n\u001b[1;32m     11\u001b[0m \u001b[38;5;66;03m# pivot it into the wide data frame format\u001b[39;00m\n\u001b[1;32m     12\u001b[0m \u001b[38;5;66;03m# remove last row because it is all nan (TODO: fix query for one more netatmo timestamp)\u001b[39;00m\n\u001b[1;32m     13\u001b[0m cws_ts_df \u001b[38;5;241m=\u001b[39m (\n\u001b[1;32m     14\u001b[0m     pd\u001b[38;5;241m.\u001b[39mread_csv(cws_ts_df_filepath, index_col\u001b[38;5;241m=\u001b[39m\u001b[38;5;124m\"\u001b[39m\u001b[38;5;124mtime\u001b[39m\u001b[38;5;124m\"\u001b[39m, parse_dates\u001b[38;5;241m=\u001b[39m\u001b[38;5;28;01mTrue\u001b[39;00m)\n\u001b[1;32m     15\u001b[0m     \u001b[38;5;241m.\u001b[39mpivot_table(index\u001b[38;5;241m=\u001b[39m\u001b[38;5;124m\"\u001b[39m\u001b[38;5;124mtime\u001b[39m\u001b[38;5;124m\"\u001b[39m, columns\u001b[38;5;241m=\u001b[39m\u001b[38;5;124m\"\u001b[39m\u001b[38;5;124mstation_id\u001b[39m\u001b[38;5;124m\"\u001b[39m, values\u001b[38;5;241m=\u001b[39m\u001b[38;5;124m\"\u001b[39m\u001b[38;5;124mvalue\u001b[39m\u001b[38;5;124m\"\u001b[39m)\n\u001b[1;32m     16\u001b[0m     \u001b[38;5;241m.\u001b[39miloc[:\u001b[38;5;241m-\u001b[39m\u001b[38;5;241m1\u001b[39m]\n\u001b[1;32m     17\u001b[0m )\n",
      "File \u001b[0;32m~/mambaforge/envs/uhi-drivers-lausanne/lib/python3.11/site-packages/geopandas/io/file.py:297\u001b[0m, in \u001b[0;36m_read_file\u001b[0;34m(filename, bbox, mask, rows, engine, **kwargs)\u001b[0m\n\u001b[1;32m    294\u001b[0m     \u001b[38;5;28;01melse\u001b[39;00m:\n\u001b[1;32m    295\u001b[0m         path_or_bytes \u001b[38;5;241m=\u001b[39m filename\n\u001b[0;32m--> 297\u001b[0m     \u001b[38;5;28;01mreturn\u001b[39;00m \u001b[43m_read_file_fiona\u001b[49m\u001b[43m(\u001b[49m\n\u001b[1;32m    298\u001b[0m \u001b[43m        \u001b[49m\u001b[43mpath_or_bytes\u001b[49m\u001b[43m,\u001b[49m\u001b[43m \u001b[49m\u001b[43mfrom_bytes\u001b[49m\u001b[43m,\u001b[49m\u001b[43m \u001b[49m\u001b[43mbbox\u001b[49m\u001b[38;5;241;43m=\u001b[39;49m\u001b[43mbbox\u001b[49m\u001b[43m,\u001b[49m\u001b[43m \u001b[49m\u001b[43mmask\u001b[49m\u001b[38;5;241;43m=\u001b[39;49m\u001b[43mmask\u001b[49m\u001b[43m,\u001b[49m\u001b[43m \u001b[49m\u001b[43mrows\u001b[49m\u001b[38;5;241;43m=\u001b[39;49m\u001b[43mrows\u001b[49m\u001b[43m,\u001b[49m\u001b[43m \u001b[49m\u001b[38;5;241;43m*\u001b[39;49m\u001b[38;5;241;43m*\u001b[39;49m\u001b[43mkwargs\u001b[49m\n\u001b[1;32m    299\u001b[0m \u001b[43m    \u001b[49m\u001b[43m)\u001b[49m\n\u001b[1;32m    301\u001b[0m \u001b[38;5;28;01melse\u001b[39;00m:\n\u001b[1;32m    302\u001b[0m     \u001b[38;5;28;01mraise\u001b[39;00m \u001b[38;5;167;01mValueError\u001b[39;00m(\u001b[38;5;124mf\u001b[39m\u001b[38;5;124m\"\u001b[39m\u001b[38;5;124munknown engine \u001b[39m\u001b[38;5;124m'\u001b[39m\u001b[38;5;132;01m{\u001b[39;00mengine\u001b[38;5;132;01m}\u001b[39;00m\u001b[38;5;124m'\u001b[39m\u001b[38;5;124m\"\u001b[39m)\n",
      "File \u001b[0;32m~/mambaforge/envs/uhi-drivers-lausanne/lib/python3.11/site-packages/geopandas/io/file.py:338\u001b[0m, in \u001b[0;36m_read_file_fiona\u001b[0;34m(path_or_bytes, from_bytes, bbox, mask, rows, where, **kwargs)\u001b[0m\n\u001b[1;32m    335\u001b[0m     reader \u001b[38;5;241m=\u001b[39m fiona\u001b[38;5;241m.\u001b[39mopen\n\u001b[1;32m    337\u001b[0m \u001b[38;5;28;01mwith\u001b[39;00m fiona_env():\n\u001b[0;32m--> 338\u001b[0m     \u001b[38;5;28;01mwith\u001b[39;00m \u001b[43mreader\u001b[49m\u001b[43m(\u001b[49m\u001b[43mpath_or_bytes\u001b[49m\u001b[43m,\u001b[49m\u001b[43m \u001b[49m\u001b[38;5;241;43m*\u001b[39;49m\u001b[38;5;241;43m*\u001b[39;49m\u001b[43mkwargs\u001b[49m\u001b[43m)\u001b[49m \u001b[38;5;28;01mas\u001b[39;00m features:\n\u001b[1;32m    339\u001b[0m         crs \u001b[38;5;241m=\u001b[39m features\u001b[38;5;241m.\u001b[39mcrs_wkt\n\u001b[1;32m    340\u001b[0m         \u001b[38;5;66;03m# attempt to get EPSG code\u001b[39;00m\n",
      "File \u001b[0;32m~/mambaforge/envs/uhi-drivers-lausanne/lib/python3.11/site-packages/fiona/env.py:457\u001b[0m, in \u001b[0;36mensure_env_with_credentials.<locals>.wrapper\u001b[0;34m(*args, **kwds)\u001b[0m\n\u001b[1;32m    454\u001b[0m     session \u001b[38;5;241m=\u001b[39m DummySession()\n\u001b[1;32m    456\u001b[0m \u001b[38;5;28;01mwith\u001b[39;00m env_ctor(session\u001b[38;5;241m=\u001b[39msession):\n\u001b[0;32m--> 457\u001b[0m     \u001b[38;5;28;01mreturn\u001b[39;00m \u001b[43mf\u001b[49m\u001b[43m(\u001b[49m\u001b[38;5;241;43m*\u001b[39;49m\u001b[43margs\u001b[49m\u001b[43m,\u001b[49m\u001b[43m \u001b[49m\u001b[38;5;241;43m*\u001b[39;49m\u001b[38;5;241;43m*\u001b[39;49m\u001b[43mkwds\u001b[49m\u001b[43m)\u001b[49m\n",
      "File \u001b[0;32m~/mambaforge/envs/uhi-drivers-lausanne/lib/python3.11/site-packages/fiona/__init__.py:292\u001b[0m, in \u001b[0;36mopen\u001b[0;34m(fp, mode, driver, schema, crs, encoding, layer, vfs, enabled_drivers, crs_wkt, allow_unsupported_drivers, **kwargs)\u001b[0m\n\u001b[1;32m    289\u001b[0m     path \u001b[38;5;241m=\u001b[39m parse_path(fp)\n\u001b[1;32m    291\u001b[0m \u001b[38;5;28;01mif\u001b[39;00m mode \u001b[38;5;129;01min\u001b[39;00m (\u001b[38;5;124m\"\u001b[39m\u001b[38;5;124ma\u001b[39m\u001b[38;5;124m\"\u001b[39m, \u001b[38;5;124m\"\u001b[39m\u001b[38;5;124mr\u001b[39m\u001b[38;5;124m\"\u001b[39m):\n\u001b[0;32m--> 292\u001b[0m     colxn \u001b[38;5;241m=\u001b[39m \u001b[43mCollection\u001b[49m\u001b[43m(\u001b[49m\n\u001b[1;32m    293\u001b[0m \u001b[43m        \u001b[49m\u001b[43mpath\u001b[49m\u001b[43m,\u001b[49m\n\u001b[1;32m    294\u001b[0m \u001b[43m        \u001b[49m\u001b[43mmode\u001b[49m\u001b[43m,\u001b[49m\n\u001b[1;32m    295\u001b[0m \u001b[43m        \u001b[49m\u001b[43mdriver\u001b[49m\u001b[38;5;241;43m=\u001b[39;49m\u001b[43mdriver\u001b[49m\u001b[43m,\u001b[49m\n\u001b[1;32m    296\u001b[0m \u001b[43m        \u001b[49m\u001b[43mencoding\u001b[49m\u001b[38;5;241;43m=\u001b[39;49m\u001b[43mencoding\u001b[49m\u001b[43m,\u001b[49m\n\u001b[1;32m    297\u001b[0m \u001b[43m        \u001b[49m\u001b[43mlayer\u001b[49m\u001b[38;5;241;43m=\u001b[39;49m\u001b[43mlayer\u001b[49m\u001b[43m,\u001b[49m\n\u001b[1;32m    298\u001b[0m \u001b[43m        \u001b[49m\u001b[43menabled_drivers\u001b[49m\u001b[38;5;241;43m=\u001b[39;49m\u001b[43menabled_drivers\u001b[49m\u001b[43m,\u001b[49m\n\u001b[1;32m    299\u001b[0m \u001b[43m        \u001b[49m\u001b[43mallow_unsupported_drivers\u001b[49m\u001b[38;5;241;43m=\u001b[39;49m\u001b[43mallow_unsupported_drivers\u001b[49m\u001b[43m,\u001b[49m\n\u001b[1;32m    300\u001b[0m \u001b[43m        \u001b[49m\u001b[38;5;241;43m*\u001b[39;49m\u001b[38;5;241;43m*\u001b[39;49m\u001b[43mkwargs\u001b[49m\n\u001b[1;32m    301\u001b[0m \u001b[43m    \u001b[49m\u001b[43m)\u001b[49m\n\u001b[1;32m    302\u001b[0m \u001b[38;5;28;01melif\u001b[39;00m mode \u001b[38;5;241m==\u001b[39m \u001b[38;5;124m\"\u001b[39m\u001b[38;5;124mw\u001b[39m\u001b[38;5;124m\"\u001b[39m:\n\u001b[1;32m    303\u001b[0m     colxn \u001b[38;5;241m=\u001b[39m Collection(\n\u001b[1;32m    304\u001b[0m         path,\n\u001b[1;32m    305\u001b[0m         mode,\n\u001b[0;32m   (...)\u001b[0m\n\u001b[1;32m    314\u001b[0m         \u001b[38;5;241m*\u001b[39m\u001b[38;5;241m*\u001b[39mkwargs\n\u001b[1;32m    315\u001b[0m     )\n",
      "File \u001b[0;32m~/mambaforge/envs/uhi-drivers-lausanne/lib/python3.11/site-packages/fiona/collection.py:243\u001b[0m, in \u001b[0;36mCollection.__init__\u001b[0;34m(self, path, mode, driver, schema, crs, encoding, layer, vsi, archive, enabled_drivers, crs_wkt, ignore_fields, ignore_geometry, include_fields, wkt_version, allow_unsupported_drivers, **kwargs)\u001b[0m\n\u001b[1;32m    241\u001b[0m \u001b[38;5;28;01mif\u001b[39;00m \u001b[38;5;28mself\u001b[39m\u001b[38;5;241m.\u001b[39mmode \u001b[38;5;241m==\u001b[39m \u001b[38;5;124m\"\u001b[39m\u001b[38;5;124mr\u001b[39m\u001b[38;5;124m\"\u001b[39m:\n\u001b[1;32m    242\u001b[0m     \u001b[38;5;28mself\u001b[39m\u001b[38;5;241m.\u001b[39msession \u001b[38;5;241m=\u001b[39m Session()\n\u001b[0;32m--> 243\u001b[0m     \u001b[38;5;28;43mself\u001b[39;49m\u001b[38;5;241;43m.\u001b[39;49m\u001b[43msession\u001b[49m\u001b[38;5;241;43m.\u001b[39;49m\u001b[43mstart\u001b[49m\u001b[43m(\u001b[49m\u001b[38;5;28;43mself\u001b[39;49m\u001b[43m,\u001b[49m\u001b[43m \u001b[49m\u001b[38;5;241;43m*\u001b[39;49m\u001b[38;5;241;43m*\u001b[39;49m\u001b[43mkwargs\u001b[49m\u001b[43m)\u001b[49m\n\u001b[1;32m    244\u001b[0m \u001b[38;5;28;01melif\u001b[39;00m \u001b[38;5;28mself\u001b[39m\u001b[38;5;241m.\u001b[39mmode \u001b[38;5;129;01min\u001b[39;00m (\u001b[38;5;124m\"\u001b[39m\u001b[38;5;124ma\u001b[39m\u001b[38;5;124m\"\u001b[39m, \u001b[38;5;124m\"\u001b[39m\u001b[38;5;124mw\u001b[39m\u001b[38;5;124m\"\u001b[39m):\n\u001b[1;32m    245\u001b[0m     \u001b[38;5;28mself\u001b[39m\u001b[38;5;241m.\u001b[39msession \u001b[38;5;241m=\u001b[39m WritingSession()\n",
      "File \u001b[0;32mfiona/ogrext.pyx:588\u001b[0m, in \u001b[0;36mfiona.ogrext.Session.start\u001b[0;34m()\u001b[0m\n",
      "File \u001b[0;32mfiona/ogrext.pyx:143\u001b[0m, in \u001b[0;36mfiona.ogrext.gdal_open_vector\u001b[0;34m()\u001b[0m\n",
      "\u001b[0;31mDriverError\u001b[0m: ../data/raw/cws-stations.gpkg: No such file or directory"
     ]
    }
   ],
   "source": [
    "# 1. read official stations data\n",
    "official_ts_df = pd.read_csv(\n",
    "    official_ts_df_filepath, index_col=\"time\", parse_dates=True\n",
    ")\n",
    "\n",
    "# 2. read CWS data\n",
    "# 2.1 stations locations\n",
    "cws_stations_gdf = gpd.read_file(cws_stations_gdf_filepath)\n",
    "\n",
    "# 2.2 time series data\n",
    "# pivot it into the wide data frame format\n",
    "# remove last row because it is all nan (TODO: fix query for one more netatmo timestamp)\n",
    "cws_ts_df = (\n",
    "    pd.read_csv(cws_ts_df_filepath, index_col=\"time\", parse_dates=True)\n",
    "    .pivot_table(index=\"time\", columns=\"station_id\", values=\"value\")\n",
    "    .iloc[:-1]\n",
    ")\n",
    "\n",
    "# correct for elevation (atmospheric lapse rate)\n",
    "if elev_adjust:\n",
    "    # backup the original so that we apply the elevation adjustment for QC but in the\n",
    "    # end we save the actual measurements\n",
    "    _cws_ts_df = cws_ts_df.copy()\n",
    "    cws_ts_df = cws_qc.elevation_adjustment(\n",
    "        cws_ts_df,\n",
    "        # need to set the station ids as index to map station id to altitude\n",
    "        cws_stations_gdf.set_index(\"id\")[\"altitude\"],\n",
    "    )\n",
    "\n",
    "# print the number of stations\n",
    "print(\n",
    "    f\"N stations: {len(official_ts_df.columns)} official, {len(cws_ts_df.columns)} CWS.\"\n",
    ")"
   ]
  },
  {
   "cell_type": "code",
   "execution_count": null,
   "id": "320f9ced",
   "metadata": {},
   "outputs": [],
   "source": [
    "cws_qc.comparison_lineplot(\n",
    "    cws_ts_df,\n",
    "    official_ts_df,\n",
    ")"
   ]
  },
  {
   "cell_type": "markdown",
   "id": "6655537a",
   "metadata": {},
   "source": [
    "\n",
    "It seems that the Netatmo stations tend to be warmer than the official stations. As noted by Meier et al., (2017) [2], this is likely due to stations located in non-shaded areas, resulting in radiative errors."
   ]
  },
  {
   "cell_type": "code",
   "execution_count": null,
   "id": "37f44453",
   "metadata": {},
   "outputs": [],
   "source": [
    "outlier_stations = cws_qc.get_outlier_stations(cws_ts_df, high_alpha=high_alpha)\n",
    "outlier_stations.sum()"
   ]
  },
  {
   "cell_type": "markdown",
   "id": "75b931b6",
   "metadata": {},
   "source": [
    "It seems that 31 Netatmo stations show a pattern that can be considered an outlier. We can filter them out and compare the CWS with the official stations again."
   ]
  },
  {
   "cell_type": "code",
   "execution_count": null,
   "id": "3ff26a32",
   "metadata": {},
   "outputs": [],
   "source": [
    "fig, axes = plt.subplots(\n",
    "    1, 2, figsize=(figwidth * 2, figheight), sharex=True, sharey=True\n",
    ")\n",
    "for ts_df, label, ax in zip(\n",
    "    [cws_ts_df.loc[:, ~outlier_stations], cws_ts_df.loc[:, outlier_stations]],\n",
    "    [\"QC CWS\", \"Outlier CWS\"],\n",
    "    axes,\n",
    "):\n",
    "    cws_qc.comparison_lineplot(\n",
    "        ts_df,\n",
    "        official_ts_df,\n",
    "        cws_label=label,\n",
    "        ax=ax,\n",
    "    )\n",
    "    ax.set_title(label)\n",
    "    ax.set_ylabel(\"T (°C)\")"
   ]
  },
  {
   "cell_type": "markdown",
   "id": "77393380",
   "metadata": {
    "lines_to_next_cell": 0
   },
   "source": [
    "Once the outlier stations are filtered out, the CWS show a better agreement with the official stations, yet they still seem to be warmer. As suggested by Napoly et al., (2018) [1], another potential explanation is that some Netatmo stations are actually installed indoors:"
   ]
  },
  {
   "cell_type": "code",
   "execution_count": null,
   "id": "58e352cb",
   "metadata": {},
   "outputs": [],
   "source": [
    "indoor_stations = cws_qc.get_indoor_stations(cws_ts_df)\n",
    "indoor_stations.sum()"
   ]
  },
  {
   "cell_type": "markdown",
   "id": "4898ef0a",
   "metadata": {},
   "source": [
    "It seems that 44 Netatmo stations show a pattern that corresponds to an indoor stations. We can again plot them separately:"
   ]
  },
  {
   "cell_type": "code",
   "execution_count": null,
   "id": "07940fa7",
   "metadata": {},
   "outputs": [],
   "source": [
    "fig, axes = plt.subplots(\n",
    "    1, 2, figsize=(figwidth * 2, figheight), sharex=True, sharey=True\n",
    ")\n",
    "for ts_df, label, ax in zip(\n",
    "    [cws_ts_df.loc[:, ~indoor_stations], cws_ts_df.loc[:, indoor_stations]],\n",
    "    [\"QC CWS\", \"Indoor CWS\"],\n",
    "    axes,\n",
    "):\n",
    "    cws_qc.comparison_lineplot(\n",
    "        ts_df,\n",
    "        official_ts_df,\n",
    "        cws_label=label,\n",
    "        ax=ax,\n",
    "    )\n",
    "    ax.set_title(label)\n",
    "    ax.set_ylabel(\"T (°C)\")"
   ]
  },
  {
   "cell_type": "markdown",
   "id": "299f33a2",
   "metadata": {},
   "source": [
    "Unlike with the outlier stations, filtering out the indoor stations does not necessarily mean that the CWS show a better agreement with the official stations.\n",
    "\n",
    "Finally, to avoid problems, e.g., when averaging over the study period, we can also discard unreliable stations with less than 80% valid (non-nan) measurements."
   ]
  },
  {
   "cell_type": "code",
   "execution_count": null,
   "id": "c195ddf8",
   "metadata": {},
   "outputs": [],
   "source": [
    "unreliable_stations = cws_qc.get_unreliable_stations(\n",
    "    cws_ts_df, unreliable_threshold=unreliable_threshold\n",
    ")\n",
    "unreliable_stations.sum()"
   ]
  },
  {
   "cell_type": "markdown",
   "id": "b3a59538",
   "metadata": {},
   "source": [
    "The latter amounts to 4 unreliable stations. Finally, we combine all the discards:"
   ]
  },
  {
   "cell_type": "code",
   "execution_count": null,
   "id": "05d45aca",
   "metadata": {},
   "outputs": [],
   "source": [
    "discard_stations = outlier_stations | indoor_stations | unreliable_stations\n",
    "discard_stations.sum(), (outlier_stations & indoor_stations).sum()"
   ]
  },
  {
   "cell_type": "markdown",
   "id": "54bd98f0",
   "metadata": {},
   "source": [
    "A total of 62 stations are discarded, 16 of which are both outliers and indoor stations. We can plot the remaining stations:"
   ]
  },
  {
   "cell_type": "code",
   "execution_count": null,
   "id": "a8e3cee3",
   "metadata": {},
   "outputs": [],
   "source": [
    "fig, axes = plt.subplots(\n",
    "    1, 2, figsize=(figwidth * 2, figheight), sharex=True, sharey=True\n",
    ")\n",
    "for ts_df, label, ax in zip(\n",
    "    [cws_ts_df.loc[:, ~discard_stations], cws_ts_df.loc[:, discard_stations]],\n",
    "    [\"QC CWS\", \"Discarded CWS\"],\n",
    "    axes,\n",
    "):\n",
    "    cws_qc.comparison_lineplot(\n",
    "        ts_df,\n",
    "        official_ts_df,\n",
    "        cws_label=label,\n",
    "        ax=ax,\n",
    "    )\n",
    "    ax.set_title(label)\n",
    "    ax.set_ylabel(\"T (°C)\")"
   ]
  },
  {
   "cell_type": "markdown",
   "id": "e82228b1",
   "metadata": {},
   "source": [
    "Even when discarding the outlier and indoor stations, the CWS still seem to be warmer than the official stations. We can hypothesize that this is due to the fact that the CWS tend to be located in more urbanized environments. But confirming this constitutes a separate analysis to be conducted in a separate notebook.\n",
    "\n",
    "Note that stations with misconfigured locations have already been descarded in the netatmo-processing notebook (since the procedure to discard them does not depend on the time-series of observations)."
   ]
  },
  {
   "cell_type": "code",
   "execution_count": null,
   "id": "dc3e8e1c",
   "metadata": {},
   "outputs": [],
   "source": [
    "# dump to a file both:\n",
    "# 1. filtered CWS time series data frame\n",
    "if elev_adjust:\n",
    "    cws_ts_df = _cws_ts_df\n",
    "cws_ts_df.loc[:, ~discard_stations].to_csv(dst_ts_df_filepath)\n",
    "\n",
    "# 2. filtered CWS stations\n",
    "cws_stations_gdf.set_index(\"id\").loc[\n",
    "    cws_ts_df.loc[:, ~discard_stations].columns\n",
    "].to_file(dst_stations_gdf_filepath)"
   ]
  },
  {
   "cell_type": "markdown",
   "id": "ee94100b",
   "metadata": {},
   "source": [
    "## References\n",
    "\n",
    "1. Adrien Napoly, Tom Grassmann, Fred Meier, and Daniel Fenner. Development and application of a statistically-based quality control for crowdsourced air temperature data. *Frontiers in Earth Science*, pages 118, 2018.\n",
    "2. Fred Meier, Daniel Fenner, Tom Grassmann, Marco Otto, and Dieter Scherer. Crowdsourcing air temperature from citizen weather stations for urban climate research. *Urban Climate*, 19:170–191, 2017."
   ]
  }
 ],
 "metadata": {
  "jupytext": {
   "cell_metadata_filter": "tags,-all"
  },
  "kernelspec": {
   "display_name": "Python (uhi-drivers-lausanne)",
   "language": "python",
   "name": "uhi-drivers-lausanne"
  },
  "language_info": {
   "codemirror_mode": {
    "name": "ipython",
    "version": 3
   },
   "file_extension": ".py",
   "mimetype": "text/x-python",
   "name": "python",
   "nbconvert_exporter": "python",
   "pygments_lexer": "ipython3",
   "version": "3.11.7"
  }
 },
 "nbformat": 4,
 "nbformat_minor": 5
}
