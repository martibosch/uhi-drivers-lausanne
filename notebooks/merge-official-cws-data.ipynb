{
 "cells": [
  {
   "cell_type": "code",
   "execution_count": null,
   "id": "e3de1e3f",
   "metadata": {},
   "outputs": [],
   "source": [
    "import contextily as cx\n",
    "import geopandas as gpd\n",
    "import pandas as pd\n",
    "\n",
    "from uhi_drivers_lausanne import regr_utils"
   ]
  },
  {
   "cell_type": "code",
   "execution_count": null,
   "id": "94970096",
   "metadata": {
    "tags": [
     "parameters"
    ]
   },
   "outputs": [],
   "source": [
    "# TODO: merge into single ts_df in data/processed?\n",
    "official_ts_df_filepath = \"../data/interim/official-ts-df.csv\"\n",
    "cws_ts_df_filepath = \"../data/interim/cws-qc-ts-df.csv\"\n",
    "\n",
    "official_stations_gdf_filepath = \"../data/interim/official-stations.gpkg\"\n",
    "cws_stations_gdf_filepath = \"../data/interim/cws-qc-stations.gpkg\"\n",
    "stations_crs = \"epsg:2056\"\n",
    "\n",
    "dst_station_id_col = \"station_id\"\n",
    "dst_stations_gdf_filepath = \"../data/processed/stations.gpkg\"\n",
    "dst_ts_df_filepath = \"../data/processed/ts-df.csv\""
   ]
  },
  {
   "cell_type": "code",
   "execution_count": null,
   "id": "3bd652e7",
   "metadata": {},
   "outputs": [],
   "source": [
    "stations_gdf = pd.concat(\n",
    "    [\n",
    "        gpd.read_file(stations_gdf_filepath)\n",
    "        .to_crs(stations_crs)\n",
    "        .rename(columns={_station_id_col: dst_station_id_col})[\n",
    "            [dst_station_id_col, \"geometry\"]\n",
    "        ]\n",
    "        .assign(source=source)\n",
    "        for stations_gdf_filepath, _station_id_col, source in zip(\n",
    "            [official_stations_gdf_filepath, cws_stations_gdf_filepath],\n",
    "            [\"index\", \"station_id\"],\n",
    "            [\"official\", \"cws\"],\n",
    "        )\n",
    "    ]\n",
    ").set_index(dst_station_id_col)\n",
    "# plot the geo-data frame\n",
    "ax = stations_gdf.plot(\"source\", legend=True)\n",
    "cx.add_basemap(ax, crs=stations_gdf.crs)"
   ]
  },
  {
   "cell_type": "code",
   "execution_count": null,
   "id": "238a455c",
   "metadata": {},
   "outputs": [],
   "source": [
    "ts_df = regr_utils.get_long_ts_df(\n",
    "    [official_ts_df_filepath, cws_ts_df_filepath],\n",
    "    dst_station_id_col,\n",
    ")\n",
    "ts_df[\"source\"] = ts_df[dst_station_id_col].map(stations_gdf[\"source\"].to_dict())\n",
    "ts_df[\"UHI\"] = pd.concat(\n",
    "    [\n",
    "        regr_utils.get_uhi_df(ts_df[ts_df[\"source\"] == source])\n",
    "        for source in [\"official\", \"cws\"]\n",
    "    ]\n",
    ")[\"UHI\"]\n",
    "ts_df"
   ]
  },
  {
   "cell_type": "code",
   "execution_count": null,
   "id": "1e6480dc",
   "metadata": {},
   "outputs": [],
   "source": [
    "# dump the data\n",
    "ts_df.to_csv(dst_ts_df_filepath, index=False)\n",
    "stations_gdf.to_file(dst_stations_gdf_filepath)"
   ]
  }
 ],
 "metadata": {
  "jupytext": {
   "cell_metadata_filter": "tags,-all"
  },
  "kernelspec": {
   "display_name": "Python (uhi-drivers-lausanne)",
   "language": "python",
   "name": "uhi-drivers-lausanne"
  },
  "language_info": {
   "codemirror_mode": {
    "name": "ipython",
    "version": 3
   },
   "file_extension": ".py",
   "mimetype": "text/x-python",
   "name": "python",
   "nbconvert_exporter": "python",
   "pygments_lexer": "ipython3",
   "version": "3.11.7"
  }
 },
 "nbformat": 4,
 "nbformat_minor": 5
}
